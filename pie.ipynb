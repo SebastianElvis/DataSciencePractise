{
 "cells": [
  {
   "cell_type": "code",
   "execution_count": 1,
   "metadata": {
    "collapsed": true
   },
   "outputs": [],
   "source": [
    "from matplotlib import pyplot as plt\n",
    "import numpy as np"
   ]
  },
  {
   "cell_type": "code",
   "execution_count": 2,
   "metadata": {
    "collapsed": true
   },
   "outputs": [],
   "source": [
    "data = np.array([5,4,3,6])\n",
    "labels = ['A', 'B', 'C', 'D']\n",
    "explode = (0, 0.1, 0, 0)\n",
    "c = ['khaki', 'goldenrod', 'tan', 'wheat'] # c for colours"
   ]
  },
  {
   "cell_type": "code",
   "execution_count": 3,
   "metadata": {},
   "outputs": [
    {
     "data": {
      "text/plain": [
       "([<matplotlib.patches.Wedge at 0x7f7993ed2d10>,\n",
       "  <matplotlib.patches.Wedge at 0x7f7993e62790>,\n",
       "  <matplotlib.patches.Wedge at 0x7f7993e73150>,\n",
       "  <matplotlib.patches.Wedge at 0x7f7993e73ad0>],\n",
       " [<matplotlib.text.Text at 0x7f7993e62390>,\n",
       "  <matplotlib.text.Text at 0x7f7993e62d90>,\n",
       "  <matplotlib.text.Text at 0x7f7993e73750>,\n",
       "  <matplotlib.text.Text at 0x7f7993e7f110>])"
      ]
     },
     "execution_count": 3,
     "metadata": {},
     "output_type": "execute_result"
    }
   ],
   "source": [
    "fig = plt.figure()\n",
    "plt.pie(data, explode=explode, labels=labels, autopct='%1.1f%%')"
   ]
  },
  {
   "cell_type": "code",
   "execution_count": 4,
   "metadata": {},
   "outputs": [
    {
     "data": {
      "image/png": "[encoded data removed]",
      "text/plain": [
       "<matplotlib.figure.Figure at 0x7f79961f8cd0>"
      ]
     },
     "metadata": {},
     "output_type": "display_data"
    }
   ],
   "source": [
    "plt.show()"
   ]
  },
  {
   "cell_type": "code",
   "execution_count": null,
   "metadata": {
    "collapsed": true
   },
   "outputs": [],
   "source": []
  }
 ],
 "metadata": {
  "kernelspec": {
   "display_name": "Python 2",
   "language": "python",
   "name": "python2"
  },
  "language_info": {
   "codemirror_mode": {
    "name": "ipython",
    "version": 2
   },
   "file_extension": ".py",
   "mimetype": "text/x-python",
   "name": "python",
   "nbconvert_exporter": "python",
   "pygments_lexer": "ipython2",
   "version": "2.7.12"
  }
 },
 "nbformat": 4,
 "nbformat_minor": 2
}
