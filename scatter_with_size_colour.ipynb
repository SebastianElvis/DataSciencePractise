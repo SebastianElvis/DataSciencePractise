{
 "cells": [
  {
   "cell_type": "code",
   "execution_count": 16,
   "metadata": {
    "collapsed": true
   },
   "outputs": [],
   "source": [
    "from matplotlib import pyplot as plt\n",
    "import numpy as np"
   ]
  },
  {
   "cell_type": "code",
   "execution_count": 17,
   "metadata": {},
   "outputs": [
    {
     "name": "stdout",
     "output_type": "stream",
     "text": [
      "[ 185.8073841    76.14189116  120.69259716  156.10679894  183.20389099\n",
      "  223.66547836  205.14188043   95.16466332  188.12918101  244.41396289\n",
      "  127.58795684   74.36482525   96.65438661  118.41940909  239.64439343\n",
      "   70.6388099   144.01340218   80.44857226  127.56187551  181.60396432\n",
      "  208.04625423  121.49477398   81.81911333   82.02567219  199.63739592\n",
      "  136.9348758   233.76994506  182.87352705   72.69240486  247.19753476\n",
      "  183.14977707   92.19147319  129.79639412  116.71844906  216.49417949\n",
      "  162.42240566  114.80156734  253.54461176  107.2190349   200.54134979\n",
      "  234.9882983   204.01261529   82.00179662  162.88586608  176.02039661\n",
      "  195.92565779  106.86226518  236.57372498  204.36906736  148.69702859\n",
      "  141.20292271  170.23323391  217.1751242   162.50300202   98.15018095\n",
      "  105.40688381  105.12701322  125.70465427  116.28979089  172.78889744\n",
      "  150.21044051  146.33507746   65.38371435   74.69434594  125.965041\n",
      "  199.1253241   109.55623652  235.34163015  246.82086562  137.08306819\n",
      "  248.1246315    74.69666043  105.79072602   95.8087508    78.43524145\n",
      "  228.99837123  164.44660519  215.61632972   68.72999111  142.37034956\n",
      "  221.83993261  102.39613446  226.88199171  204.65458749   82.25763175\n",
      "   79.17351499  169.16474804   99.45162529  209.29256772   64.2813242\n",
      "  248.66642484  192.69239665  165.04299286  217.45535891  238.1428787\n",
      "  181.15665278  164.2724972   133.4508347   100.0052487    72.33619311]\n"
     ]
    }
   ],
   "source": [
    "N = 100\n",
    "x = np.random.randn(N)\n",
    "y = np.random.randn(N)\n",
    "size = ((np.random.rand(N) + 1) * 8) ** 2 # x**y means x^y\n",
    "print size"
   ]
  },
  {
   "cell_type": "code",
   "execution_count": 18,
   "metadata": {
    "collapsed": true
   },
   "outputs": [],
   "source": [
    "fig = plt.figure()"
   ]
  },
  {
   "cell_type": "code",
   "execution_count": 19,
   "metadata": {},
   "outputs": [
    {
     "data": {
      "text/plain": [
       "<matplotlib.colorbar.Colorbar at 0x7f077cee7590>"
      ]
     },
     "execution_count": 19,
     "metadata": {},
     "output_type": "execute_result"
    }
   ],
   "source": [
    "colours = np.random.rand(N) # colour value as the third dimension\n",
    "l = plt.scatter(x, y, s=size, c=colours)\n",
    "fig.colorbar(l)"
   ]
  },
  {
   "cell_type": "code",
   "execution_count": 20,
   "metadata": {
    "collapsed": true
   },
   "outputs": [],
   "source": [
    "fig.suptitle('Scatter Plot with size and colour')\n",
    "plt.grid(True)"
   ]
  },
  {
   "cell_type": "code",
   "execution_count": 21,
   "metadata": {},
   "outputs": [],
   "source": [
    "#plt.show()"
   ]
  },
  {
   "cell_type": "code",
   "execution_count": 22,
   "metadata": {
    "collapsed": true
   },
   "outputs": [],
   "source": [
    "plt.savefig('figs/scatter_with_size_colour.png')"
   ]
  },
  {
   "cell_type": "code",
   "execution_count": null,
   "metadata": {
    "collapsed": true
   },
   "outputs": [],
   "source": []
  }
 ],
 "metadata": {
  "kernelspec": {
   "display_name": "Python 2",
   "language": "python",
   "name": "python2"
  },
  "language_info": {
   "codemirror_mode": {
    "name": "ipython",
    "version": 2
   },
   "file_extension": ".py",
   "mimetype": "text/x-python",
   "name": "python",
   "nbconvert_exporter": "python",
   "pygments_lexer": "ipython2",
   "version": "2.7.12"
  }
 },
 "nbformat": 4,
 "nbformat_minor": 2
}
